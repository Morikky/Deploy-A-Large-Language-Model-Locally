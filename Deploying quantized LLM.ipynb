{
 "cells": [
  {
   "cell_type": "markdown",
   "id": "a21c65d8",
   "metadata": {},
   "source": [
    "# Deploy the quantized model"
   ]
  },
  {
   "cell_type": "code",
   "execution_count": 1,
   "id": "dabffa82",
   "metadata": {},
   "outputs": [
    {
     "name": "stdout",
     "output_type": "stream",
     "text": [
      "Response to \"What is a zebra?\" is: \"\n",
      " Zebras are wild animals. They live in Africa and Asia. You may not see a\"\n"
     ]
    }
   ],
   "source": [
    "from langchain.llms import CTransformers\n",
    "\n",
    "\n",
    "#Specify the path for the downloaded model\n",
    "model_local_path=\"C:/Research/LLM/pretrained_models/llama-2-7b.Q4_K_M.gguf\"\n",
    "\n",
    "#Specify parameters to the generated response\n",
    "config = {'max_new_tokens': 20, 'repetition_penalty': 1.1, 'temperature': 0.8, 'gpu_layers':0}\n",
    "\n",
    "#Load the quantized model\n",
    "llm = CTransformers(model=model_local_path,  model_type=\"llama\", config=config)\n",
    "\n",
    "#Generate a response for a prompt (test)\n",
    "prompt1=\"What is a zebra?\"\n",
    "response1=llm(prompt1)\n",
    "\n",
    "print('Response to \"%s\" is: \"%s\"'%(prompt1,response1))\n",
    "\n"
   ]
  },
  {
   "cell_type": "code",
   "execution_count": null,
   "id": "252f9965",
   "metadata": {},
   "outputs": [],
   "source": []
  }
 ],
 "metadata": {
  "kernelspec": {
   "display_name": "Python 3 (ipykernel)",
   "language": "python",
   "name": "python3"
  },
  "language_info": {
   "codemirror_mode": {
    "name": "ipython",
    "version": 3
   },
   "file_extension": ".py",
   "mimetype": "text/x-python",
   "name": "python",
   "nbconvert_exporter": "python",
   "pygments_lexer": "ipython3",
   "version": "3.10.1"
  }
 },
 "nbformat": 4,
 "nbformat_minor": 5
}
